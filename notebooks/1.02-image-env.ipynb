{
 "cells": [
  {
   "cell_type": "code",
   "execution_count": 1,
   "metadata": {},
   "outputs": [],
   "source": [
    "\n",
    "%load_ext autoreload\n",
    "%autoreload 2"
   ]
  },
  {
   "cell_type": "code",
   "execution_count": 30,
   "metadata": {},
   "outputs": [],
   "source": [
    "from uav_active_sensing.config import PROCESSED_DATA_DIR\n",
    "from uav_active_sensing.pytorch_dataloaders import TinyImageNetDataset\n",
    "from uav_active_sensing.env import ImageEnv\n",
    "\n",
    "import random as rd\n",
    "import numpy as np\n",
    "import matplotlib.pyplot as plt\n",
    "\n",
    "import torch\n",
    "import torch.nn.functional as F\n",
    "from torchvision import datasets, transforms\n",
    "from torch.utils.data import DataLoader\n",
    "from torchvision.transforms.functional import resize"
   ]
  },
  {
   "cell_type": "code",
   "execution_count": 3,
   "metadata": {},
   "outputs": [],
   "source": [
    "cifar10_processed_dir = PROCESSED_DATA_DIR / \"cifar10\"\n",
    "\n",
    "cifar10_transform = transforms.Compose([\n",
    "    transforms.ToTensor(),\n",
    "    # transforms.Normalize((0.5, 0.5, 0.5), (0.5, 0.5, 0.5))\n",
    "])\n",
    "\n",
    "cifar10_train_dataset = datasets.CIFAR10(\n",
    "    root=cifar10_processed_dir, train=True, download=False, transform=cifar10_transform\n",
    ")\n",
    "cifar10_test_dataset = datasets.CIFAR10(\n",
    "    root=cifar10_processed_dir, train=False, download=False, transform=cifar10_transform\n",
    ")\n",
    "\n",
    "cifar10_train_loader = DataLoader(cifar10_train_dataset, batch_size=1, shuffle=True)\n",
    "cifar10_test_loader = DataLoader(cifar10_test_dataset, batch_size=1, shuffle=False)"
   ]
  },
  {
   "cell_type": "code",
   "execution_count": 4,
   "metadata": {},
   "outputs": [],
   "source": [
    "\n",
    "TINY_IMAGENET_PROCESSED_DIR = PROCESSED_DATA_DIR / \"tiny_imagenet/tiny-imagenet-200\"\n",
    "\n",
    "tiny_imagenet_transform = transforms.Compose([\n",
    "    transforms.ToTensor(),\n",
    "    # transforms.Normalize((0.5, 0.5, 0.5), (0.5, 0.5, 0.5))\n",
    "])\n",
    "\n",
    "tiny_imagenet_train_dataset = TinyImageNetDataset(\n",
    "    root_dir=TINY_IMAGENET_PROCESSED_DIR, split=\"train\", transform=tiny_imagenet_transform\n",
    ")\n",
    "tiny_imagenet_val_dataset = TinyImageNetDataset(\n",
    "    root_dir=TINY_IMAGENET_PROCESSED_DIR, split=\"val\", transform=tiny_imagenet_transform\n",
    ")\n",
    "\n",
    "tiny_imagenet_train_loader = DataLoader(tiny_imagenet_train_dataset, batch_size=1, shuffle=True)\n",
    "tiny_imagenet_val_loader = DataLoader(tiny_imagenet_val_dataset, batch_size=1, shuffle=False)"
   ]
  },
  {
   "cell_type": "code",
   "execution_count": 5,
   "metadata": {},
   "outputs": [],
   "source": [
    "# Class labels for CIFAR-10\n",
    "classes = [\n",
    "    \"airplane\", \"automobile\", \"bird\", \"cat\", \"deer\",\n",
    "    \"dog\", \"frog\", \"horse\", \"ship\", \"truck\"\n",
    "]\n",
    "\n",
    "# Function to visualize images from a batch\n",
    "\n",
    "\n",
    "def visualize_batch(images, labels, classes, num_samples=1):\n",
    "    plt.figure(figsize=(12, 5))\n",
    "    for i in range(num_samples):\n",
    "        plt.subplot(2, 5, i + 1)\n",
    "        image = images[i].permute(1, 2, 0).numpy()\n",
    "        plt.imshow(image)\n",
    "        plt.title(classes[labels[i].item()])\n",
    "        plt.axis(\"off\")\n",
    "    plt.tight_layout()\n",
    "    plt.show()"
   ]
  },
  {
   "cell_type": "code",
   "execution_count": 6,
   "metadata": {},
   "outputs": [
    {
     "data": {
      "image/png": "[encoded data removed]",
      "text/plain": [
       "<Figure size 1200x500 with 1 Axes>"
      ]
     },
     "metadata": {},
     "output_type": "display_data"
    }
   ],
   "source": [
    "# Get a sample batch from the DataLoader\n",
    "sample_batch = next(iter(cifar10_train_loader))\n",
    "images, labels = sample_batch\n",
    "\n",
    "# Visualize the first 10 images from the batch\n",
    "visualize_batch(images, labels, classes, num_samples=1)"
   ]
  },
  {
   "cell_type": "code",
   "execution_count": 7,
   "metadata": {},
   "outputs": [],
   "source": [
    "def visualize_tensors(tensor1, tensor2):\n",
    "    \"\"\"\n",
    "    Visualizes two PyTorch tensors as images side by side.\n",
    "    If tensors are 3D (e.g., RGB), they will be shown as color images.\n",
    "    If tensors are 2D, they will be shown as grayscale images.\n",
    "\n",
    "    Args:\n",
    "        tensor1 (torch.Tensor): The first tensor to display.\n",
    "        tensor2 (torch.Tensor): The second tensor to display.\n",
    "    \"\"\"\n",
    "    # Ensure tensors are at least 2D\n",
    "    if tensor1.dim() < 2 or tensor2.dim() < 2:\n",
    "        raise ValueError(\"Tensors must be at least 2D.\")\n",
    "\n",
    "    # If tensors are 3D, check if they represent RGB images (channels last)\n",
    "    if tensor1.dim() == 3 and tensor1.shape[0] in {3, 1}:  # RGB or grayscale\n",
    "        tensor1 = tensor1.permute(1, 2, 0)  # Convert (C, H, W) to (H, W, C)\n",
    "    if tensor2.dim() == 3 and tensor2.shape[0] in {3, 1}:  # RGB or grayscale\n",
    "        tensor2 = tensor2.permute(1, 2, 0)  # Convert (C, H, W) to (H, W, C)\n",
    "\n",
    "    # Plot both tensors as images\n",
    "    fig, axes = plt.subplots(1, 2, figsize=(12, 6))\n",
    "\n",
    "    # First tensor\n",
    "    axes[0].imshow(tensor1.numpy())\n",
    "    axes[0].set_title(\"Tensor 1\")\n",
    "    axes[0].axis('off')  # Hide axis\n",
    "\n",
    "    # Second tensor\n",
    "    axes[1].imshow(tensor2.numpy())\n",
    "    axes[1].set_title(\"Tensor 2\")\n",
    "    axes[1].axis('off')  # Hide axis\n",
    "\n",
    "    plt.show()"
   ]
  },
  {
   "cell_type": "code",
   "execution_count": 33,
   "metadata": {},
   "outputs": [],
   "source": [
    "def random_walk(env: ImageEnv, steps: int):\n",
    "    for _ in range(steps):\n",
    "        dx = rd.choice([-10, 0, 10])  # Move left, stay, or move right\n",
    "        dy = rd.choice([-10, 0, 10])  # Move up, stay, or move down\n",
    "        dz = rd.choice([-1, 0, 1])  # Zoom in, stay, or zoom out\n",
    "\n",
    "        env.move(dx, dy, dz)"
   ]
  },
  {
   "cell_type": "code",
   "execution_count": 38,
   "metadata": {},
   "outputs": [
    {
     "data": {
      "image/png": "[encoded data removed]",
      "text/plain": [
       "<Figure size 1200x600 with 2 Axes>"
      ]
     },
     "metadata": {},
     "output_type": "display_data"
    }
   ],
   "source": [
    "IMG_FOV_RATIO = 32\n",
    "\n",
    "\n",
    "image, label = tiny_imagenet_train_dataset[15000]\n",
    "env = ImageEnv(image, IMG_FOV_RATIO)\n",
    "\n",
    "\n",
    "random_walk(env, 100)\n",
    "visualize_tensors(env.img, env.sampled_img)"
   ]
  },
  {
   "cell_type": "code",
   "execution_count": null,
   "metadata": {},
   "outputs": [],
   "source": []
  },
  {
   "cell_type": "code",
   "execution_count": null,
   "metadata": {},
   "outputs": [],
   "source": []
  }
 ],
 "metadata": {
  "kernelspec": {
   "display_name": "uav_active_sensing",
   "language": "python",
   "name": "python3"
  },
  "language_info": {
   "codemirror_mode": {
    "name": "ipython",
    "version": 3
   },
   "file_extension": ".py",
   "mimetype": "text/x-python",
   "name": "python",
   "nbconvert_exporter": "python",
   "pygments_lexer": "ipython3",
   "version": "3.12.3"
  }
 },
 "nbformat": 4,
 "nbformat_minor": 2
}
