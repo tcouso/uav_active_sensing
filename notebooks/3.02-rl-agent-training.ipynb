{
 "cells": [
  {
   "cell_type": "code",
   "execution_count": 104,
   "metadata": {},
   "outputs": [
    {
     "name": "stdout",
     "output_type": "stream",
     "text": [
      "The autoreload extension is already loaded. To reload it, use:\n",
      "  %reload_ext autoreload\n"
     ]
    }
   ],
   "source": [
    "%load_ext autoreload\n",
    "%autoreload 2"
   ]
  },
  {
   "cell_type": "code",
   "execution_count": 105,
   "metadata": {},
   "outputs": [],
   "source": [
    "from transformers import AutoImageProcessor\n",
    "import torch\n",
    "from torch.utils.data import DataLoader\n",
    "\n",
    "from uav_active_sensing.pytorch_datasets import TinyImageNetDataset, tiny_imagenet_collate_fn\n",
    "from uav_active_sensing.modeling.img_env.img_exploration_env import RewardFunction, ImageExplorationEnv, ImageExplorationEnvConfig\n",
    "from uav_active_sensing.modeling.mae.act_vit_mae import ActViTMAEForPreTraining\n",
    "# from uav_active_sensing.modeling.ppo import train_ppo, make_env, PPOConfig, PPOAgent\n",
    "from uav_active_sensing.plots import visualize_tensor\n",
    "\n",
    "from stable_baselines3 import PPO, SAC\n",
    "from uav_active_sensing.modeling.agents.rl_agent_feature_extractor import CustomResNetFeatureExtractor"
   ]
  },
  {
   "cell_type": "code",
   "execution_count": 153,
   "metadata": {},
   "outputs": [],
   "source": [
    "rl_num_envs = 1\n",
    "rl_batch_size = 4\n",
    "rl_num_steps = rl_batch_size * rl_num_envs * 4\n",
    "\n",
    "image_processor = AutoImageProcessor.from_pretrained(\"facebook/vit-mae-base\", use_fast=True)\n",
    "tiny_imagenet_train_dataset = TinyImageNetDataset(split=\"train\", transform=image_processor)\n",
    "tiny_imagenet_train_loader = DataLoader(tiny_imagenet_train_dataset, batch_size=10, collate_fn=tiny_imagenet_collate_fn)\n",
    "\n",
    "# Pretrained model and reward function\n",
    "model = ActViTMAEForPreTraining.from_pretrained(\"facebook/vit-mae-base\")\n",
    "reward_function = RewardFunction(model)\n",
    "\n",
    "# Create a dummy environment to initialize the model\n",
    "dummy_batch = next(iter(tiny_imagenet_train_loader))  # Take one image as a dummy input for env initialization\n",
    "env_config = ImageExplorationEnvConfig(img=dummy_batch, reward_function=reward_function)\n",
    "env = ImageExplorationEnv(env_config)"
   ]
  },
  {
   "cell_type": "markdown",
   "metadata": {},
   "source": [
    "### Batch env"
   ]
  },
  {
   "cell_type": "code",
   "execution_count": 154,
   "metadata": {},
   "outputs": [],
   "source": [
    "sample_action = env.action_space.sample()\n",
    "sample_action = torch.from_numpy(sample_action)\n",
    "sample_action = env._denormalize_action(sample_action)"
   ]
  },
  {
   "cell_type": "code",
   "execution_count": 155,
   "metadata": {},
   "outputs": [
    {
     "data": {
      "text/plain": [
       "tensor([[ 15,   6,  12],\n",
       "        [  9,  10,  10],\n",
       "        [  6,  -9,  13],\n",
       "        [ -3,   4,  -5],\n",
       "        [ -3,   7,  10],\n",
       "        [ -1,  15,  -2],\n",
       "        [ -9,   3,  -6],\n",
       "        [ -6,  11,   1],\n",
       "        [-11,  -7,  -6],\n",
       "        [ -8,  13,   2]], dtype=torch.int32)"
      ]
     },
     "execution_count": 155,
     "metadata": {},
     "output_type": "execute_result"
    }
   ],
   "source": [
    "sample_action"
   ]
  },
  {
   "cell_type": "code",
   "execution_count": 165,
   "metadata": {},
   "outputs": [
    {
     "name": "stdout",
     "output_type": "stream",
     "text": [
      "torch.Size([10])\n"
     ]
    },
    {
     "ename": "TypeError",
     "evalue": "only integer tensors of a single element can be converted to an index",
     "output_type": "error",
     "traceback": [
      "\u001b[0;31m---------------------------------------------------------------------------\u001b[0m",
      "\u001b[0;31mTypeError\u001b[0m                                 Traceback (most recent call last)",
      "Cell \u001b[0;32mIn[165], line 1\u001b[0m\n\u001b[0;32m----> 1\u001b[0m \u001b[43menv\u001b[49m\u001b[38;5;241;43m.\u001b[39;49m\u001b[43mmove\u001b[49m\u001b[43m(\u001b[49m\u001b[43msample_action\u001b[49m\u001b[43m)\u001b[49m\n",
      "File \u001b[0;32m~/uav_active_sensing/uav_active_sensing/modeling/img_env/img_exploration_env.py:395\u001b[0m, in \u001b[0;36mImageExplorationEnv.move\u001b[0;34m(self, action)\u001b[0m\n\u001b[1;32m    393\u001b[0m \u001b[38;5;28mself\u001b[39m\u001b[38;5;241m.\u001b[39m_sensor_pos \u001b[38;5;241m+\u001b[39m\u001b[38;5;241m=\u001b[39m action[:, :\u001b[38;5;241m2\u001b[39m]\n\u001b[1;32m    394\u001b[0m \u001b[38;5;28mself\u001b[39m\u001b[38;5;241m.\u001b[39m_kernel_size \u001b[38;5;241m+\u001b[39m\u001b[38;5;241m=\u001b[39m action[:, \u001b[38;5;241m2\u001b[39m]\n\u001b[0;32m--> 395\u001b[0m \u001b[38;5;28;43mself\u001b[39;49m\u001b[38;5;241;43m.\u001b[39;49m\u001b[43m_update_sampled_img\u001b[49m\u001b[43m(\u001b[49m\u001b[43m)\u001b[49m\n",
      "File \u001b[0;32m~/uav_active_sensing/uav_active_sensing/modeling/img_env/img_exploration_env.py:359\u001b[0m, in \u001b[0;36mImageExplorationEnv._update_sampled_img\u001b[0;34m(self)\u001b[0m\n\u001b[1;32m    356\u001b[0m batch_indices \u001b[38;5;241m=\u001b[39m torch\u001b[38;5;241m.\u001b[39marange(\u001b[38;5;28mself\u001b[39m\u001b[38;5;241m.\u001b[39mbatch_size, device\u001b[38;5;241m=\u001b[39m\u001b[38;5;28mself\u001b[39m\u001b[38;5;241m.\u001b[39mdevice)[:, \u001b[38;5;28;01mNone\u001b[39;00m, \u001b[38;5;28;01mNone\u001b[39;00m]  \u001b[38;5;66;03m# Shape: (B, 1, 1)\u001b[39;00m\n\u001b[1;32m    358\u001b[0m \u001b[38;5;66;03m# Perform batch-wise indexing\u001b[39;00m\n\u001b[0;32m--> 359\u001b[0m obs \u001b[38;5;241m=\u001b[39m \u001b[38;5;28;43mself\u001b[39;49m\u001b[38;5;241;43m.\u001b[39;49m\u001b[43mimg\u001b[49m\u001b[43m[\u001b[49m\n\u001b[1;32m    360\u001b[0m \u001b[43m    \u001b[49m\u001b[43mbatch_indices\u001b[49m\u001b[43m,\u001b[49m\u001b[43m  \u001b[49m\u001b[38;5;66;43;03m# Selects each batch index\u001b[39;49;00m\n\u001b[1;32m    361\u001b[0m \u001b[43m    \u001b[49m\u001b[43m:\u001b[49m\u001b[43m,\u001b[49m\u001b[43m              \u001b[49m\u001b[38;5;66;43;03m# Selects all channels\u001b[39;49;00m\n\u001b[1;32m    362\u001b[0m \u001b[43m    \u001b[49m\u001b[43mtop\u001b[49m\u001b[43m[\u001b[49m\u001b[43m:\u001b[49m\u001b[43m,\u001b[49m\u001b[43m \u001b[49m\u001b[38;5;28;43;01mNone\u001b[39;49;00m\u001b[43m,\u001b[49m\u001b[43m \u001b[49m\u001b[38;5;28;43;01mNone\u001b[39;49;00m\u001b[43m]\u001b[49m\u001b[43m:\u001b[49m\u001b[43mbottom\u001b[49m\u001b[43m[\u001b[49m\u001b[43m:\u001b[49m\u001b[43m,\u001b[49m\u001b[43m \u001b[49m\u001b[38;5;28;43;01mNone\u001b[39;49;00m\u001b[43m,\u001b[49m\u001b[43m \u001b[49m\u001b[38;5;28;43;01mNone\u001b[39;49;00m\u001b[43m]\u001b[49m\u001b[43m,\u001b[49m\u001b[43m  \u001b[49m\u001b[38;5;66;43;03m# Row range for each image\u001b[39;49;00m\n\u001b[1;32m    363\u001b[0m \u001b[43m    \u001b[49m\u001b[43mleft\u001b[49m\u001b[43m[\u001b[49m\u001b[43m:\u001b[49m\u001b[43m,\u001b[49m\u001b[43m \u001b[49m\u001b[38;5;28;43;01mNone\u001b[39;49;00m\u001b[43m]\u001b[49m\u001b[43m:\u001b[49m\u001b[43mright\u001b[49m\u001b[43m[\u001b[49m\u001b[43m:\u001b[49m\u001b[43m,\u001b[49m\u001b[43m \u001b[49m\u001b[38;5;28;43;01mNone\u001b[39;49;00m\u001b[43m]\u001b[49m\u001b[43m  \u001b[49m\u001b[38;5;66;43;03m# Column range for each image\u001b[39;49;00m\n\u001b[1;32m    364\u001b[0m \u001b[43m\u001b[49m\u001b[43m]\u001b[49m\u001b[38;5;241m.\u001b[39mclone()\n\u001b[1;32m    366\u001b[0m \u001b[38;5;66;03m# top, bottom, left, right = self.fov_bbox\u001b[39;00m\n\u001b[1;32m    367\u001b[0m \u001b[38;5;66;03m# obs = self.img[:, :, top:bottom, left:right].clone()\u001b[39;00m\n\u001b[1;32m    369\u001b[0m \u001b[38;5;28;01mif\u001b[39;00m \u001b[38;5;28mself\u001b[39m\u001b[38;5;241m.\u001b[39m_kernel_size \u001b[38;5;241m>\u001b[39m \u001b[38;5;28mself\u001b[39m\u001b[38;5;241m.\u001b[39m_min_kernel_size:\n",
      "\u001b[0;31mTypeError\u001b[0m: only integer tensors of a single element can be converted to an index"
     ]
    }
   ],
   "source": [
    "env.move(sample_action)"
   ]
  },
  {
   "cell_type": "code",
   "execution_count": 166,
   "metadata": {},
   "outputs": [],
   "source": [
    "fov_bbox = env.fov_bbox\n",
    "\n",
    "top = fov_bbox[:, 0]\n",
    "left = fov_bbox[:, 1]\n",
    "bottom = fov_bbox[:, 2]\n",
    "right = fov_bbox[:, 3]\n",
    "\n",
    "  # # top, bottom, left, right = env.fov_bbox\n",
    "  # obs = env.img[:, :, top:bottom, left:right].clone()"
   ]
  },
  {
   "cell_type": "code",
   "execution_count": 174,
   "metadata": {},
   "outputs": [],
   "source": [
    "B, C, H, W = env.img.shape  # Get batch size, channels, height, width\n",
    "\n",
    "# Generate row and column indices for each image\n",
    "row_indices = torch.arange(H, device=env.img.device).view(1, -1, 1)  # Shape (1, H, 1)\n",
    "col_indices = torch.arange(W, device=env.img.device).view(1, 1, -1)  # Shape (1, 1, W)\n",
    "\n",
    "# Create masks to keep only the pixels within the [top, bottom) and [left, right) range\n",
    "row_mask = (row_indices >= top.view(B, 1, 1)) & (row_indices < bottom.view(B, 1, 1))  # (B, H, 1)\n",
    "col_mask = (col_indices >= left.view(B, 1, 1)) & (col_indices < right.view(B, 1, 1))  # (B, 1, W)\n",
    "\n",
    "# Get final mask for each image\n",
    "mask = row_mask & col_mask  # (B, H, W)\n",
    "\n",
    "# Use mask to index the images\n",
    "cropped_images = env.img * mask[:, None, :, :]  # (B, C, H, W), setting out-of-bounds pixels to 0\n"
   ]
  },
  {
   "cell_type": "code",
   "execution_count": 177,
   "metadata": {},
   "outputs": [
    {
     "data": {
      "text/plain": [
       "tensor([[[[-0.0000, -0.0000, -0.0000,  ...,  0.0000,  0.0000,  0.0000],\n",
       "          [-0.0000, -0.0000, -0.0000,  ...,  0.0000,  0.0000,  0.0000],\n",
       "          [-0.0000, -0.0000, -0.0000,  ...,  0.0000,  0.0000,  0.0000],\n",
       "          ...,\n",
       "          [ 0.0000,  0.0000,  0.0000,  ..., -0.0000, -0.0000, -0.0000],\n",
       "          [ 0.0000,  0.0000,  0.0000,  ..., -0.0000, -0.0000, -0.0000],\n",
       "          [ 0.0000,  0.0000,  0.0000,  ..., -0.0000, -0.0000, -0.0000]],\n",
       "\n",
       "         [[-0.0000, -0.0000, -0.0000,  ...,  0.0000,  0.0000,  0.0000],\n",
       "          [-0.0000, -0.0000, -0.0000,  ...,  0.0000,  0.0000,  0.0000],\n",
       "          [ 0.0000,  0.0000,  0.0000,  ...,  0.0000,  0.0000,  0.0000],\n",
       "          ...,\n",
       "          [ 0.0000,  0.0000,  0.0000,  ..., -0.0000, -0.0000, -0.0000],\n",
       "          [ 0.0000,  0.0000,  0.0000,  ..., -0.0000, -0.0000, -0.0000],\n",
       "          [ 0.0000,  0.0000,  0.0000,  ..., -0.0000, -0.0000, -0.0000]],\n",
       "\n",
       "         [[ 0.0000,  0.0000,  0.0000,  ...,  0.0000,  0.0000,  0.0000],\n",
       "          [ 0.0000,  0.0000,  0.0000,  ...,  0.0000,  0.0000,  0.0000],\n",
       "          [ 0.0000,  0.0000,  0.0000,  ...,  0.0000,  0.0000,  0.0000],\n",
       "          ...,\n",
       "          [ 0.0000,  0.0000,  0.0000,  ..., -0.0000, -0.0000, -0.0000],\n",
       "          [ 0.0000,  0.0000,  0.0000,  ..., -0.0000, -0.0000, -0.0000],\n",
       "          [ 0.0000,  0.0000,  0.0000,  ..., -0.0000, -0.0000, -0.0000]]],\n",
       "\n",
       "\n",
       "        [[[-0.0000, -0.0000, -0.0000,  ...,  0.0000,  0.0000,  0.0000],\n",
       "          [-0.0000, -0.0000, -0.0000,  ...,  0.0000,  0.0000,  0.0000],\n",
       "          [-0.0000, -0.0000, -0.0000,  ...,  0.0000,  0.0000,  0.0000],\n",
       "          ...,\n",
       "          [ 0.0000,  0.0000,  0.0000,  ..., -0.0000, -0.0000, -0.0000],\n",
       "          [ 0.0000,  0.0000,  0.0000,  ..., -0.0000, -0.0000, -0.0000],\n",
       "          [ 0.0000,  0.0000,  0.0000,  ..., -0.0000, -0.0000, -0.0000]],\n",
       "\n",
       "         [[-0.0000, -0.0000, -0.0000,  ...,  0.0000,  0.0000,  0.0000],\n",
       "          [-0.0000, -0.0000, -0.0000,  ...,  0.0000,  0.0000,  0.0000],\n",
       "          [-0.0000, -0.0000, -0.0000,  ...,  0.0000,  0.0000,  0.0000],\n",
       "          ...,\n",
       "          [ 0.0000,  0.0000,  0.0000,  ..., -0.0000, -0.0000, -0.0000],\n",
       "          [ 0.0000,  0.0000,  0.0000,  ..., -0.0000, -0.0000, -0.0000],\n",
       "          [ 0.0000,  0.0000,  0.0000,  ..., -0.0000, -0.0000, -0.0000]],\n",
       "\n",
       "         [[-0.0000, -0.0000, -0.0000,  ...,  0.0000,  0.0000,  0.0000],\n",
       "          [-0.0000, -0.0000, -0.0000,  ...,  0.0000,  0.0000,  0.0000],\n",
       "          [-0.0000, -0.0000, -0.0000,  ...,  0.0000,  0.0000,  0.0000],\n",
       "          ...,\n",
       "          [ 0.0000,  0.0000,  0.0000,  ..., -0.0000, -0.0000, -0.0000],\n",
       "          [ 0.0000,  0.0000,  0.0000,  ..., -0.0000, -0.0000, -0.0000],\n",
       "          [ 0.0000,  0.0000,  0.0000,  ..., -0.0000, -0.0000, -0.0000]]],\n",
       "\n",
       "\n",
       "        [[[-0.0000, -0.0000, -0.0000,  ..., -0.0000, -0.0000, -0.0000],\n",
       "          [-0.0000, -0.0000, -0.0000,  ..., -0.0000, -0.0000, -0.0000],\n",
       "          [-0.0000, -0.0000, -0.0000,  ..., -0.0000, -0.0000, -0.0000],\n",
       "          ...,\n",
       "          [-0.0000, -0.0000, -0.0000,  ...,  0.0000,  0.0000,  0.0000],\n",
       "          [-0.0000, -0.0000, -0.0000,  ...,  0.0000,  0.0000,  0.0000],\n",
       "          [-0.0000, -0.0000, -0.0000,  ...,  0.0000,  0.0000,  0.0000]],\n",
       "\n",
       "         [[-0.0000, -0.0000, -0.0000,  ..., -0.0000, -0.0000, -0.0000],\n",
       "          [-0.0000, -0.0000, -0.0000,  ..., -0.0000, -0.0000, -0.0000],\n",
       "          [-0.0000, -0.0000, -0.0000,  ..., -0.0000, -0.0000, -0.0000],\n",
       "          ...,\n",
       "          [-0.0000, -0.0000, -0.0000,  ...,  0.0000,  0.0000,  0.0000],\n",
       "          [-0.0000, -0.0000, -0.0000,  ...,  0.0000,  0.0000,  0.0000],\n",
       "          [-0.0000, -0.0000, -0.0000,  ...,  0.0000,  0.0000,  0.0000]],\n",
       "\n",
       "         [[-0.0000, -0.0000, -0.0000,  ..., -0.0000, -0.0000, -0.0000],\n",
       "          [-0.0000, -0.0000, -0.0000,  ..., -0.0000, -0.0000, -0.0000],\n",
       "          [-0.0000, -0.0000, -0.0000,  ..., -0.0000, -0.0000, -0.0000],\n",
       "          ...,\n",
       "          [-0.0000, -0.0000, -0.0000,  ...,  0.0000,  0.0000,  0.0000],\n",
       "          [-0.0000, -0.0000, -0.0000,  ...,  0.0000,  0.0000,  0.0000],\n",
       "          [-0.0000, -0.0000, -0.0000,  ...,  0.0000,  0.0000,  0.0000]]],\n",
       "\n",
       "\n",
       "        ...,\n",
       "\n",
       "\n",
       "        [[[-0.0000, -0.0000, -0.0000,  ..., -0.0000, -0.0000, -0.0000],\n",
       "          [-0.0000, -0.0000, -0.0000,  ..., -0.0000, -0.0000, -0.0000],\n",
       "          [-0.0000, -0.0000, -0.0000,  ..., -0.0000, -0.0000, -0.0000],\n",
       "          ...,\n",
       "          [-0.0000, -0.0000, -0.0000,  ..., -0.0000, -0.0000, -0.0000],\n",
       "          [-0.0000, -0.0000, -0.0000,  ..., -0.0000, -0.0000, -0.0000],\n",
       "          [-0.0000, -0.0000, -0.0000,  ..., -0.0000, -0.0000, -0.0000]],\n",
       "\n",
       "         [[-0.0000, -0.0000, -0.0000,  ..., -0.0000, -0.0000, -0.0000],\n",
       "          [-0.0000, -0.0000, -0.0000,  ..., -0.0000, -0.0000, -0.0000],\n",
       "          [-0.0000, -0.0000, -0.0000,  ..., -0.0000, -0.0000, -0.0000],\n",
       "          ...,\n",
       "          [-0.0000, -0.0000, -0.0000,  ..., -0.0000, -0.0000, -0.0000],\n",
       "          [-0.0000, -0.0000, -0.0000,  ..., -0.0000, -0.0000, -0.0000],\n",
       "          [-0.0000, -0.0000, -0.0000,  ..., -0.0000, -0.0000, -0.0000]],\n",
       "\n",
       "         [[-0.0000, -0.0000, -0.0000,  ..., -0.0000, -0.0000, -0.0000],\n",
       "          [-0.0000, -0.0000, -0.0000,  ..., -0.0000, -0.0000, -0.0000],\n",
       "          [-0.0000, -0.0000, -0.0000,  ..., -0.0000, -0.0000, -0.0000],\n",
       "          ...,\n",
       "          [-0.0000, -0.0000, -0.0000,  ..., -0.0000, -0.0000, -0.0000],\n",
       "          [-0.0000, -0.0000, -0.0000,  ..., -0.0000, -0.0000, -0.0000],\n",
       "          [-0.0000, -0.0000, -0.0000,  ..., -0.0000, -0.0000, -0.0000]]],\n",
       "\n",
       "\n",
       "        [[[ 0.0000,  0.0000,  0.0000,  ...,  0.0000,  0.0000,  0.0000],\n",
       "          [ 0.0000,  0.0000,  0.0000,  ...,  0.0000,  0.0000,  0.0000],\n",
       "          [ 0.0000,  0.0000,  0.0000,  ...,  0.0000,  0.0000,  0.0000],\n",
       "          ...,\n",
       "          [ 0.0000,  0.0000,  0.0000,  ...,  0.0000,  0.0000,  0.0000],\n",
       "          [ 0.0000,  0.0000,  0.0000,  ...,  0.0000,  0.0000,  0.0000],\n",
       "          [ 0.0000,  0.0000,  0.0000,  ...,  0.0000,  0.0000,  0.0000]],\n",
       "\n",
       "         [[ 0.0000,  0.0000,  0.0000,  ...,  0.0000,  0.0000,  0.0000],\n",
       "          [ 0.0000,  0.0000,  0.0000,  ...,  0.0000,  0.0000,  0.0000],\n",
       "          [ 0.0000,  0.0000,  0.0000,  ...,  0.0000,  0.0000,  0.0000],\n",
       "          ...,\n",
       "          [ 0.0000,  0.0000,  0.0000,  ...,  0.0000,  0.0000,  0.0000],\n",
       "          [ 0.0000,  0.0000,  0.0000,  ...,  0.0000,  0.0000,  0.0000],\n",
       "          [ 0.0000,  0.0000,  0.0000,  ...,  0.0000,  0.0000,  0.0000]],\n",
       "\n",
       "         [[ 0.0000,  0.0000,  0.0000,  ...,  0.0000,  0.0000,  0.0000],\n",
       "          [ 0.0000,  0.0000,  0.0000,  ...,  0.0000,  0.0000,  0.0000],\n",
       "          [ 0.0000,  0.0000,  0.0000,  ...,  0.0000,  0.0000,  0.0000],\n",
       "          ...,\n",
       "          [ 0.0000,  0.0000,  0.0000,  ...,  0.0000,  0.0000,  0.0000],\n",
       "          [ 0.0000,  0.0000,  0.0000,  ...,  0.0000,  0.0000,  0.0000],\n",
       "          [ 0.0000,  0.0000,  0.0000,  ...,  0.0000,  0.0000,  0.0000]]],\n",
       "\n",
       "\n",
       "        [[[-0.0000, -0.0000, -0.0000,  ..., -1.3302, -0.0000, -0.0000],\n",
       "          [-0.0000, -0.0000, -0.0000,  ..., -1.3302, -0.0000, -0.0000],\n",
       "          [-0.0000, -0.0000, -0.0000,  ..., -1.3302, -0.0000, -0.0000],\n",
       "          ...,\n",
       "          [-0.0000, -0.0000, -0.0000,  ..., -0.0000, -0.0000, -0.0000],\n",
       "          [-0.0000, -0.0000, -0.0000,  ..., -0.0000, -0.0000, -0.0000],\n",
       "          [-0.0000, -0.0000, -0.0000,  ..., -0.0000, -0.0000, -0.0000]],\n",
       "\n",
       "         [[-0.0000, -0.0000, -0.0000,  ..., -1.5980, -0.0000, -0.0000],\n",
       "          [-0.0000, -0.0000, -0.0000,  ..., -1.5980, -0.0000, -0.0000],\n",
       "          [-0.0000, -0.0000, -0.0000,  ..., -1.6155, -0.0000, -0.0000],\n",
       "          ...,\n",
       "          [-0.0000, -0.0000, -0.0000,  ..., -0.0000, -0.0000, -0.0000],\n",
       "          [-0.0000, -0.0000, -0.0000,  ..., -0.0000, -0.0000, -0.0000],\n",
       "          [-0.0000, -0.0000, -0.0000,  ..., -0.0000, -0.0000, -0.0000]],\n",
       "\n",
       "         [[-0.0000, -0.0000, -0.0000,  ..., -1.2119, -0.0000, -0.0000],\n",
       "          [-0.0000, -0.0000, -0.0000,  ..., -1.2119, -0.0000, -0.0000],\n",
       "          [-0.0000, -0.0000, -0.0000,  ..., -1.2641, -0.0000, -0.0000],\n",
       "          ...,\n",
       "          [-0.0000, -0.0000, -0.0000,  ..., -0.0000, -0.0000, -0.0000],\n",
       "          [-0.0000, -0.0000, -0.0000,  ..., -0.0000, -0.0000, -0.0000],\n",
       "          [-0.0000, -0.0000, -0.0000,  ..., -0.0000, -0.0000, -0.0000]]]])"
      ]
     },
     "execution_count": 177,
     "metadata": {},
     "output_type": "execute_result"
    }
   ],
   "source": [
    "cropped_images"
   ]
  },
  {
   "cell_type": "code",
   "execution_count": 127,
   "metadata": {},
   "outputs": [
    {
     "data": {
      "text/plain": [
       "tensor([ 62., 150.,  90., 131., 162., 136.,  44., 218., 220.,  20.])"
      ]
     },
     "execution_count": 127,
     "metadata": {},
     "output_type": "execute_result"
    }
   ],
   "source": [
    "bottom"
   ]
  },
  {
   "cell_type": "markdown",
   "metadata": {},
   "source": [
    "### Agent training"
   ]
  },
  {
   "cell_type": "code",
   "execution_count": null,
   "metadata": {},
   "outputs": [],
   "source": [
    "\n",
    "policy_kwargs = dict(\n",
    "    features_extractor_class=CustomResNetFeatureExtractor,\n",
    "    features_extractor_kwargs=dict(features_dim=512),\n",
    ")\n",
    "\n",
    "resnet_rl_model = PPO(\n",
    "    \"CnnPolicy\",\n",
    "    env,\n",
    "    policy_kwargs=policy_kwargs,\n",
    "    verbose=1,\n",
    "      n_steps=rl_num_steps,\n",
    "    batch_size=rl_batch_size\n",
    ")\n",
    "\n",
    "for i, batch in enumerate(tiny_imagenet_train_loader):\n",
    "    # Set image with batch change: https://stable-baselines3.readthedocs.io/en/master/guide/vec_envs.html\n",
    "    vec_env = resnet_rl_model.get_env()  \n",
    "    vec_env.env_method(\"set_img\", batch)\n",
    "    resnet_rl_model.learn(total_timesteps=2 * rl_num_steps, progress_bar=False)\n",
    "    \n",
    "    if i == 1:\n",
    "        break"
   ]
  },
  {
   "cell_type": "code",
   "execution_count": null,
   "metadata": {},
   "outputs": [],
   "source": [
    "# test_env = ImageExplorationEnv(env_config)\n",
    "test_env = resnet_rl_model.env.envs[0].env\n",
    "\n",
    "\n",
    "# Reset environment and get initial observation\n",
    "obs, _ = test_env.reset()\n",
    "\n",
    "# Number of steps to run the evaluation\n",
    "num_eval_steps = 30\n",
    "\n",
    "# Disable training mode\n",
    "resnet_rl_model.policy.eval()\n",
    "\n",
    "for step in range(num_eval_steps):\n",
    "\n",
    "    obs_tensor = torch.tensor(obs, dtype=torch.float32)\n",
    "    action, _ = resnet_rl_model.predict(obs_tensor, deterministic=True)\n",
    "    obs, reward, terminated, truncated, _ = test_env.step(action)\n",
    "\n",
    "    # Print results\n",
    "    print(f\"Step {step + 1}: Action={action}, Reward={reward}\")\n",
    "\n",
    "    # if terminated or truncated:\n",
    "    #     print(\"Episode ended, resetting environment.\")\n",
    "    #     obs, _ = test_env.reset()"
   ]
  },
  {
   "cell_type": "code",
   "execution_count": null,
   "metadata": {},
   "outputs": [],
   "source": [
    "visualize_tensor(test_env.img)\n",
    "visualize_tensor(test_env.sampled_img)"
   ]
  },
  {
   "cell_type": "code",
   "execution_count": null,
   "metadata": {},
   "outputs": [],
   "source": []
  }
 ],
 "metadata": {
  "kernelspec": {
   "display_name": "uav_active_sensing",
   "language": "python",
   "name": "python3"
  },
  "language_info": {
   "codemirror_mode": {
    "name": "ipython",
    "version": 3
   },
   "file_extension": ".py",
   "mimetype": "text/x-python",
   "name": "python",
   "nbconvert_exporter": "python",
   "pygments_lexer": "ipython3",
   "version": "3.12.3"
  }
 },
 "nbformat": 4,
 "nbformat_minor": 2
}
