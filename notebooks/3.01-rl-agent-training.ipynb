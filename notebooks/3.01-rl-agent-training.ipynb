{
 "cells": [
  {
   "cell_type": "code",
   "execution_count": 5,
   "metadata": {},
   "outputs": [
    {
     "name": "stdout",
     "output_type": "stream",
     "text": [
      "The autoreload extension is already loaded. To reload it, use:\n",
      "  %reload_ext autoreload\n"
     ]
    }
   ],
   "source": [
    "%load_ext autoreload\n",
    "%autoreload 2"
   ]
  },
  {
   "cell_type": "code",
   "execution_count": 6,
   "metadata": {},
   "outputs": [],
   "source": [
    "from uav_active_sensing.config import PROCESSED_DATA_DIR\n",
    "from uav_active_sensing.pytorch_datasets import TinyImageNetDataset\n",
    "from uav_active_sensing.modeling.img_exploration_env import ImageExplorationEnv, RewardFunction\n",
    "from uav_active_sensing.modeling.act_vit_mae import ActViTMAEForPreTraining\n",
    "from uav_active_sensing.plots import visualize_reconstruction\n",
    "from uav_active_sensing.modeling.ppo import train_ppo\n",
    "\n",
    "import torch\n",
    "from torch.utils.data import DataLoader\n",
    "\n",
    "from transformers import AutoImageProcessor\n"
   ]
  },
  {
   "cell_type": "code",
   "execution_count": 7,
   "metadata": {},
   "outputs": [],
   "source": [
    "TINY_IMAGENET_PROCESSED_DIR = PROCESSED_DATA_DIR / \"tiny_imagenet/tiny-imagenet-200\"\n",
    "DEVICE = 'cuda' if torch.cuda.is_available() else 'cpu'\n",
    "\n",
    "\n",
    "def tiny_imagenet_collate_fn(batch):\n",
    "    processed_batch = [\n",
    "        image[0][\"pixel_values\"].to(DEVICE)\n",
    "        for image in batch\n",
    "    ]\n",
    "\n",
    "    return torch.cat(processed_batch, dim=0)\n",
    "\n",
    "\n",
    "image_processor = AutoImageProcessor.from_pretrained(\"facebook/vit-mae-base\", use_fast=True)\n",
    "tiny_imagenet_train_dataset = TinyImageNetDataset(\n",
    "    root_dir=TINY_IMAGENET_PROCESSED_DIR, split=\"train\", transform=image_processor\n",
    ")\n",
    "tiny_imagenet_val_dataset = TinyImageNetDataset(\n",
    "    root_dir=TINY_IMAGENET_PROCESSED_DIR, split=\"val\", transform=image_processor\n",
    ")\n",
    "train_dataloader = DataLoader(tiny_imagenet_train_dataset, batch_size=1, collate_fn=tiny_imagenet_collate_fn)  # Currently only supports batch size of 1\n",
    "\n",
    "model = ActViTMAEForPreTraining.from_pretrained(\"facebook/vit-mae-base\")\n",
    "reward_function = RewardFunction(model)"
   ]
  },
  {
   "cell_type": "markdown",
   "metadata": {},
   "source": [
    "### RL trainig with epoch interface"
   ]
  },
  {
   "cell_type": "code",
   "execution_count": 9,
   "metadata": {},
   "outputs": [
    {
     "name": "stdout",
     "output_type": "stream",
     "text": [
      "Num iters:  10\n",
      "Curr iteration 1\n",
      "SPS: 7\n",
      "Curr iteration 2\n",
      "SPS: 3\n",
      "Curr iteration 3\n",
      "SPS: 3\n",
      "Curr iteration 4\n",
      "SPS: 3\n",
      "Curr iteration 5\n",
      "SPS: 3\n",
      "Curr iteration 6\n",
      "SPS: 3\n",
      "Curr iteration 7\n",
      "SPS: 3\n",
      "Curr iteration 8\n",
      "SPS: 3\n",
      "Curr iteration 9\n",
      "SPS: 3\n",
      "Curr iteration 10\n",
      "SPS: 3\n"
     ]
    }
   ],
   "source": [
    "\n",
    "# Repeat for many epochs until convergence\n",
    "\n",
    "\n",
    "# First half of the epoch. Train RL agent(s) in env instantiated with each batch. Freeze MAE\n",
    "for i, batch in enumerate(train_dataloader):\n",
    "    if i == 1:\n",
    "        break\n",
    "\n",
    "    train_ppo(batch, reward_function)\n",
    "\n",
    "\n",
    "\n",
    "# Second half of the epoch. Train MAE here with pairs of batches of sampled and complete images. Freeze agent\n"
   ]
  },
  {
   "cell_type": "code",
   "execution_count": null,
   "metadata": {},
   "outputs": [],
   "source": []
  }
 ],
 "metadata": {
  "kernelspec": {
   "display_name": "uav_active_sensing",
   "language": "python",
   "name": "python3"
  },
  "language_info": {
   "codemirror_mode": {
    "name": "ipython",
    "version": 3
   },
   "file_extension": ".py",
   "mimetype": "text/x-python",
   "name": "python",
   "nbconvert_exporter": "python",
   "pygments_lexer": "ipython3",
   "version": "3.12.3"
  }
 },
 "nbformat": 4,
 "nbformat_minor": 2
}
