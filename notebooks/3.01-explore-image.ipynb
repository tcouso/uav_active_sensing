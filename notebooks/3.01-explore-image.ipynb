{
 "cells": [
  {
   "cell_type": "code",
   "execution_count": 296,
   "metadata": {},
   "outputs": [
    {
     "name": "stdout",
     "output_type": "stream",
     "text": [
      "The autoreload extension is already loaded. To reload it, use:\n",
      "  %reload_ext autoreload\n"
     ]
    }
   ],
   "source": [
    "\n",
    "%load_ext autoreload\n",
    "%autoreload 2"
   ]
  },
  {
   "cell_type": "code",
   "execution_count": 297,
   "metadata": {},
   "outputs": [],
   "source": [
    "from uav_active_sensing.config import PROCESSED_DATA_DIR\n",
    "from uav_active_sensing.pytorch_dataloaders import TinyImageNetDataset\n",
    "\n",
    "import random\n",
    "import numpy as np\n",
    "import matplotlib.pyplot as plt\n",
    "\n",
    "import torch\n",
    "import torch.nn.functional as F\n",
    "from torchvision import datasets, transforms\n",
    "from torch.utils.data import DataLoader\n",
    "from torchvision.transforms.functional import resize"
   ]
  },
  {
   "cell_type": "code",
   "execution_count": 298,
   "metadata": {},
   "outputs": [],
   "source": [
    "cifar10_processed_dir = PROCESSED_DATA_DIR / \"cifar10\"\n",
    "\n",
    "cifar10_transform = transforms.Compose([\n",
    "    transforms.ToTensor(),\n",
    "    # transforms.Normalize((0.5, 0.5, 0.5), (0.5, 0.5, 0.5))\n",
    "])\n",
    "\n",
    "cifar10_train_dataset = datasets.CIFAR10(\n",
    "    root=cifar10_processed_dir, train=True, download=False, transform=cifar10_transform\n",
    ")\n",
    "cifar10_test_dataset = datasets.CIFAR10(\n",
    "    root=cifar10_processed_dir, train=False, download=False, transform=cifar10_transform\n",
    ")\n",
    "\n",
    "cifar10_train_loader = DataLoader(cifar10_train_dataset, batch_size=1, shuffle=True)\n",
    "cifar10_test_loader = DataLoader(cifar10_test_dataset, batch_size=1, shuffle=False)"
   ]
  },
  {
   "cell_type": "code",
   "execution_count": 299,
   "metadata": {},
   "outputs": [],
   "source": [
    "\n",
    "TINY_IMAGENET_PROCESSED_DIR = PROCESSED_DATA_DIR / \"tiny_imagenet/tiny-imagenet-200\"\n",
    "\n",
    "tiny_imagenet_transform = transforms.Compose([\n",
    "    transforms.ToTensor(),\n",
    "    # transforms.Normalize((0.5, 0.5, 0.5), (0.5, 0.5, 0.5))\n",
    "])\n",
    "\n",
    "tiny_imagenet_train_dataset = TinyImageNetDataset(\n",
    "    root_dir=TINY_IMAGENET_PROCESSED_DIR, split=\"train\", transform=tiny_imagenet_transform\n",
    ")\n",
    "tiny_imagenet_val_dataset = TinyImageNetDataset(\n",
    "    root_dir=TINY_IMAGENET_PROCESSED_DIR, split=\"val\", transform=tiny_imagenet_transform\n",
    ")\n",
    "\n",
    "tiny_imagenet_train_loader = DataLoader(tiny_imagenet_train_dataset, batch_size=1, shuffle=True)\n",
    "tiny_imagenet_val_loader = DataLoader(tiny_imagenet_val_dataset, batch_size=1, shuffle=False)"
   ]
  },
  {
   "cell_type": "code",
   "execution_count": 300,
   "metadata": {},
   "outputs": [],
   "source": [
    "# Class labels for CIFAR-10\n",
    "classes = [\n",
    "    \"airplane\", \"automobile\", \"bird\", \"cat\", \"deer\",\n",
    "    \"dog\", \"frog\", \"horse\", \"ship\", \"truck\"\n",
    "]\n",
    "\n",
    "# Function to visualize images from a batch\n",
    "\n",
    "\n",
    "def visualize_batch(images, labels, classes, num_samples=1):\n",
    "    plt.figure(figsize=(12, 5))\n",
    "    for i in range(num_samples):\n",
    "        plt.subplot(2, 5, i + 1)\n",
    "        image = images[i].permute(1, 2, 0).numpy()\n",
    "        plt.imshow(image)\n",
    "        plt.title(classes[labels[i].item()])\n",
    "        plt.axis(\"off\")\n",
    "    plt.tight_layout()\n",
    "    plt.show()"
   ]
  },
  {
   "cell_type": "code",
   "execution_count": 301,
   "metadata": {},
   "outputs": [
    {
     "data": {
      "image/png": "[encoded data removed]",
      "text/plain": [
       "<Figure size 1200x500 with 1 Axes>"
      ]
     },
     "metadata": {},
     "output_type": "display_data"
    }
   ],
   "source": [
    "# Get a sample batch from the DataLoader\n",
    "sample_batch = next(iter(cifar10_train_loader))\n",
    "images, labels = sample_batch\n",
    "\n",
    "# Visualize the first 10 images from the batch\n",
    "visualize_batch(images, labels, classes, num_samples=1)"
   ]
  },
  {
   "cell_type": "code",
   "execution_count": 302,
   "metadata": {},
   "outputs": [],
   "source": [
    "def visualize_tensors(tensor1, tensor2):\n",
    "    \"\"\"\n",
    "    Visualizes two PyTorch tensors as images side by side.\n",
    "    If tensors are 3D (e.g., RGB), they will be shown as color images.\n",
    "    If tensors are 2D, they will be shown as grayscale images.\n",
    "\n",
    "    Args:\n",
    "        tensor1 (torch.Tensor): The first tensor to display.\n",
    "        tensor2 (torch.Tensor): The second tensor to display.\n",
    "    \"\"\"\n",
    "    # Ensure tensors are at least 2D\n",
    "    if tensor1.dim() < 2 or tensor2.dim() < 2:\n",
    "        raise ValueError(\"Tensors must be at least 2D.\")\n",
    "\n",
    "    # If tensors are 3D, check if they represent RGB images (channels last)\n",
    "    if tensor1.dim() == 3 and tensor1.shape[0] in {3, 1}:  # RGB or grayscale\n",
    "        tensor1 = tensor1.permute(1, 2, 0)  # Convert (C, H, W) to (H, W, C)\n",
    "    if tensor2.dim() == 3 and tensor2.shape[0] in {3, 1}:  # RGB or grayscale\n",
    "        tensor2 = tensor2.permute(1, 2, 0)  # Convert (C, H, W) to (H, W, C)\n",
    "\n",
    "    # Plot both tensors as images\n",
    "    fig, axes = plt.subplots(1, 2, figsize=(12, 6))\n",
    "\n",
    "    # First tensor\n",
    "    axes[0].imshow(tensor1.numpy())\n",
    "    axes[0].set_title(\"Tensor 1\")\n",
    "    axes[0].axis('off')  # Hide axis\n",
    "\n",
    "    # Second tensor\n",
    "    axes[1].imshow(tensor2.numpy())\n",
    "    axes[1].set_title(\"Tensor 2\")\n",
    "    axes[1].axis('off')  # Hide axis\n",
    "\n",
    "    plt.show()"
   ]
  },
  {
   "cell_type": "code",
   "execution_count": 303,
   "metadata": {},
   "outputs": [],
   "source": [
    "class ImageEnv:\n",
    "    def __init__(\n",
    "        self, image: torch.Tensor,\n",
    "        img_FoV_ratio: int,\n",
    "        min_altitude: int,\n",
    "        max_altitude: int,\n",
    "        device: str = \"cpu\"\n",
    "    ) -> None:\n",
    "\n",
    "        if device is None:\n",
    "            device = 'cuda' if torch.cuda.is_available() else 'cpu'\n",
    "        self.device = device\n",
    "        self.img = image.to(self.device)\n",
    "        self.img_FoV_ratio = img_FoV_ratio\n",
    "        self.min_altitude = min_altitude\n",
    "        self.max_altitude = max_altitude\n",
    "\n",
    "        self.height, self.width = image.shape[1:]\n",
    "        self.FoV_height = self.height // self.img_FoV_ratio\n",
    "        self.FoV_width = self.width // self.img_FoV_ratio\n",
    "\n",
    "        self._position = [0, 0, self.min_altitude]\n",
    "        self.max_FoV_coor = [self.height - self.FoV_height, self.width - self.FoV_width, self.max_altitude]\n",
    "        self.min_FoV_coor = [0, 0, self.min_altitude]\n",
    "\n",
    "        self.max_zoom_level = 1\n",
    "        self.min_zoom_level = max(\n",
    "            self.height // self.FoV_height,\n",
    "            self.width // self.FoV_width)\n",
    "\n",
    "        self.sampled_img = torch.full_like(self.img, float('nan'), device=self.device)\n",
    "        self.sample_img_altitude_mask = torch.full_like(self.img, fill_value=self.max_altitude, dtype=torch.int32)\n",
    "\n",
    "        self.curr_FoV = self.img[:, 0:self.FoV_height, 0:self.FoV_width].clone()  # Ensure a separate copy\n",
    "\n",
    "    @property\n",
    "    def position(self):\n",
    "        return tuple(self._position)\n",
    "\n",
    "    @position.setter\n",
    "    def position(self, new_position):\n",
    "        x, y, z = new_position\n",
    "        self._position[0] = max(min(x, self.max_FoV_coor[0]), self.min_FoV_coor[0])\n",
    "        self._position[1] = max(min(y, self.max_FoV_coor[1]), self.min_FoV_coor[1])\n",
    "        self._position[2] = max(min(z, self.max_FoV_coor[2]), self.min_FoV_coor[2])\n",
    "\n",
    "    @property\n",
    "    def zoom_level(self):\n",
    "        m = (self.min_zoom_level - self.max_zoom_level) / (self.max_altitude - self.min_altitude)\n",
    "        b = self.max_zoom_level - m * self.min_altitude\n",
    "\n",
    "        return m * self._position[2] + b\n",
    "\n",
    "    def apply_blur(self, window):\n",
    "        kernel_size = int(self.zoom_level)\n",
    "        kernel_size = kernel_size if kernel_size % 2 == 1 else kernel_size + 1\n",
    "        blurred = F.avg_pool2d(window.unsqueeze(0), kernel_size=kernel_size, stride=1, padding=kernel_size // 2)\n",
    "\n",
    "        return blurred.squeeze(0).clone()  # Ensure a separate copy\n",
    "\n",
    "    def apply_higher_zoom_filter(self, obs: torch.Tensor, top, bottom, left, right) -> torch.Tensor:\n",
    "\n",
    "        prev_obs = self.sampled_img[:, top:bottom, left:right]\n",
    "        previous_altitude_mask = self.sample_img_altitude_mask[:, top:bottom, left:right]\n",
    "        altitude = self.position[2]\n",
    "        current_altitude_mask = torch.full_like(previous_altitude_mask, fill_value=altitude)\n",
    "\n",
    "        obs_to_update = current_altitude_mask > previous_altitude_mask\n",
    "        altitudes_to_update = current_altitude_mask < previous_altitude_mask\n",
    "\n",
    "        self.sample_img_altitude_mask[:, top:bottom, left:right][altitudes_to_update] = current_altitude_mask[altitudes_to_update]\n",
    "        obs[obs_to_update] = prev_obs[obs_to_update]\n",
    "\n",
    "        return obs\n",
    "\n",
    "    def observe(self):\n",
    "\n",
    "        # TODO: Distinguish between camera (pixels in sensor) and FoV (projection in the image, that changes with altitude)\n",
    "        # TODO: Fix error when FoV is partially out of the image \n",
    "\n",
    "        zoomed_size_height = int(self.FoV_height * self.zoom_level)\n",
    "        zoomed_size_width = int(self.FoV_width * self.zoom_level)\n",
    "\n",
    "        top = max(0, self.position[0])\n",
    "        left = max(0, self.position[1])\n",
    "        bottom = min(self.height, self.position[0] + zoomed_size_height)\n",
    "        right = min(self.width, self.position[1] + zoomed_size_width)\n",
    "\n",
    "        zoomed_window = self.img[:, top:bottom, left:right].clone()  # Ensure a separate copy\n",
    "\n",
    "        if self.zoom_level > self.max_zoom_level:\n",
    "            blurred_window = self.apply_blur(zoomed_window)\n",
    "            resized_window = F.interpolate(\n",
    "                blurred_window.unsqueeze(0),\n",
    "                size=(self.FoV_height, self.FoV_width),\n",
    "                mode='bilinear', align_corners=False\n",
    "            )\n",
    "            self.curr_FoV[:, :, :] = resized_window.squeeze(0)\n",
    "            obs = F.interpolate(resized_window, size=(zoomed_size_height, zoomed_size_width), mode='nearest')\n",
    "            obs = obs.squeeze(0)\n",
    "\n",
    "        else:\n",
    "            obs = zoomed_window\n",
    "\n",
    "        obs = self.apply_higher_zoom_filter(obs, top, bottom, left, right)\n",
    "        self.sampled_img[:, top:bottom, left:right] = obs\n",
    "\n",
    "    def move(self, dx: int, dy: int, dz: int):\n",
    "        self.position = (\n",
    "            self._position[0] + dy,\n",
    "            self._position[1] + dx,\n",
    "            self._position[2] + dz\n",
    "        )\n",
    "\n",
    "        self.observe()\n"
   ]
  },
  {
   "cell_type": "code",
   "execution_count": 319,
   "metadata": {},
   "outputs": [],
   "source": [
    "def random_walk(env: ImageEnv, steps: int):\n",
    "    try:\n",
    "        for _ in range(steps):\n",
    "            dx = random.choice([-5, 0, 5])  # Move left, stay, or move right\n",
    "            dy = random.choice([-5, 0, 5])  # Move up, stay, or move down\n",
    "            dz = random.choice([-5, 0, 5])  # Zoom in, stay, or zoom out\n",
    "\n",
    "            env.move(dx, dy, dz)\n",
    "    except Exception as err:\n",
    "        print(\"woops!\")\n",
    "        print(env.position)\n",
    "        print(dx, dy, dz)\n",
    "        print(err)"
   ]
  },
  {
   "cell_type": "code",
   "execution_count": 330,
   "metadata": {},
   "outputs": [
    {
     "name": "stdout",
     "output_type": "stream",
     "text": [
      "woops!\n",
      "(45, 20, 40)\n",
      "-5 5 5\n",
      "The shape of the mask [3, 19, 26] at index 1 does not match the shape of the indexed tensor [3, 26, 26] at index 1\n"
     ]
    },
    {
     "data": {
      "image/png": "[encoded data removed]",
      "text/plain": [
       "<Figure size 1200x600 with 2 Axes>"
      ]
     },
     "metadata": {},
     "output_type": "display_data"
    }
   ],
   "source": [
    "MIN_ALTITUDE = 10\n",
    "MAX_ALTITUDE = 100\n",
    "IMG_FOV_RATIO = 8\n",
    "\n",
    "image, label = tiny_imagenet_train_dataset[3006]\n",
    "env = ImageEnv(image, IMG_FOV_RATIO, MIN_ALTITUDE, MAX_ALTITUDE)\n",
    "\n",
    "\n",
    "random_walk(env, 200)\n",
    "visualize_tensors(env.img, env.sampled_img)"
   ]
  },
  {
   "cell_type": "code",
   "execution_count": 306,
   "metadata": {},
   "outputs": [],
   "source": [
    "# TODO: Implement image as environment, following common interface (gymnasium problably)\n",
    "# TODO: Implement reward model (with pretrained MAE) inside the env mechanics\n",
    "\n",
    "# Everything nice and decoupled!"
   ]
  },
  {
   "cell_type": "code",
   "execution_count": null,
   "metadata": {},
   "outputs": [],
   "source": []
  }
 ],
 "metadata": {
  "kernelspec": {
   "display_name": "uav_active_sensing",
   "language": "python",
   "name": "python3"
  },
  "language_info": {
   "codemirror_mode": {
    "name": "ipython",
    "version": 3
   },
   "file_extension": ".py",
   "mimetype": "text/x-python",
   "name": "python",
   "nbconvert_exporter": "python",
   "pygments_lexer": "ipython3",
   "version": "3.12.3"
  }
 },
 "nbformat": 4,
 "nbformat_minor": 2
}
